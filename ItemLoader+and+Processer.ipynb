{
 "cells": [
  {
   "cell_type": "code",
   "execution_count": 1,
   "metadata": {
    "collapsed": true
   },
   "outputs": [],
   "source": [
    "from scrapy.loader import ItemLoader"
   ]
  },
  {
   "cell_type": "code",
   "execution_count": 2,
   "metadata": {
    "collapsed": true
   },
   "outputs": [],
   "source": [
    "# we need headers to disguise our bot as a browser\n",
    "\n",
    "headers = {\n",
    "    \"Connection\": \"keep-alive\",\n",
    "    \"Cache-Control\": \"max-age=0\",\n",
    "    \"Accept\": \"text/html,application/xhtml+xml,application/xml;q=0.9,image/webp,*/*;q=0.8\",\n",
    "    \"User-Agent\": \"Mozilla/5.0 (Windows NT 6.1; WOW64) AppleWebKit/537.36 (KHTML, like Gecko) Chrome/34.0.1847.131 Safari/537.36\",\n",
    "    \"Accept-Encoding\": \"gzip,deflate,sdch\",\n",
    "    \"Accept-Language\": \"zh-CN,zh;q=0.8,en-US;q=0.6,en;q=0.4,zh-TW;q=0.2\",\n",
    "}\n",
    "\n",
    "\n",
    "import requests\n",
    "from scrapy.http import TextResponse"
   ]
  },
  {
   "cell_type": "code",
   "execution_count": 4,
   "metadata": {
    "collapsed": false
   },
   "outputs": [
    {
     "data": {
      "text/plain": [
       "<200 https://twitter.com/Chase>"
      ]
     },
     "execution_count": 4,
     "metadata": {},
     "output_type": "execute_result"
    }
   ],
   "source": [
    "r = requests.get('https://twitter.com/Chase', \n",
    "                 headers = headers)\n",
    "\n",
    "response = TextResponse(r.url, body = r.text, encoding = 'utf-8')\n",
    "\n",
    "# there is a response we need to handle\n",
    "response"
   ]
  },
  {
   "cell_type": "code",
   "execution_count": 6,
   "metadata": {
    "collapsed": false
   },
   "outputs": [],
   "source": [
    "from scrapy import Item, Field\n",
    "class SourceItem(Item):\n",
    "    content=Field()"
   ]
  },
  {
   "cell_type": "code",
   "execution_count": 7,
   "metadata": {
    "collapsed": false
   },
   "outputs": [
    {
     "data": {
      "text/plain": [
       "True"
      ]
     },
     "execution_count": 7,
     "metadata": {},
     "output_type": "execute_result"
    }
   ],
   "source": [
    "# intialization\n",
    "item = SourceItem()\n",
    "isinstance(item, SourceItem)"
   ]
  },
  {
   "cell_type": "code",
   "execution_count": 8,
   "metadata": {
    "collapsed": false
   },
   "outputs": [
    {
     "data": {
      "text/plain": [
       "scrapy.loader.ItemLoader"
      ]
     },
     "execution_count": 8,
     "metadata": {},
     "output_type": "execute_result"
    }
   ],
   "source": [
    "# Initialization with Item and response\n",
    "# Item, (here is SourceItem()), it the container ItemLoader uses\n",
    "# response, is the raw material ItemLoader to exploit\n",
    "l = ItemLoader(item = SourceItem(), response = response)\n",
    "type(l)"
   ]
  },
  {
   "cell_type": "code",
   "execution_count": 10,
   "metadata": {
    "collapsed": false
   },
   "outputs": [],
   "source": [
    "content_xpath='//*[@id=\"stream-item-tweet-872611666927775744\"]/div[1]/div[2]/div[2]/p'"
   ]
  },
  {
   "cell_type": "code",
   "execution_count": 11,
   "metadata": {
    "collapsed": false
   },
   "outputs": [
    {
     "data": {
      "text/plain": [
       "['<p class=\"TweetTextSize TweetTextSize--normal js-tweet-text tweet-text\" lang=\"en\" data-aria-label-part=\"0\"><a href=\"/hashtag/AboutLastNight?src=hash\" data-query-source=\"hashtag_click\" class=\"twitter-hashtag pretty-link js-nav\" dir=\"ltr\"><s>#</s><b>AboutLastNight</b></a>: Chase cardmembers celebrated the opening of the newly renovated <a href=\"/hashtag/ChaseLounge?src=hash\" data-query-source=\"hashtag_click\" class=\"twitter-hashtag pretty-link js-nav\" dir=\"ltr\"><s>#</s><b>ChaseLounge</b></a> in the historic <a href=\"/ChicagoTheatre\" class=\"twitter-atreply pretty-link js-nav\" dir=\"ltr\" data-mentioned-user-id=\"38218024\"><s>@</s><b>ChicagoTheatre</b></a><a href=\"https://t.co/My9TtK89t8\" class=\"twitter-timeline-link u-hidden\" data-pre-embedded=\"true\" dir=\"ltr\">pic.twitter.com/My9TtK89t8</a></p>']"
      ]
     },
     "execution_count": 11,
     "metadata": {},
     "output_type": "execute_result"
    }
   ],
   "source": [
    "response.xpath(content_xpath).extract()"
   ]
  },
  {
   "cell_type": "code",
   "execution_count": 14,
   "metadata": {
    "collapsed": true
   },
   "outputs": [],
   "source": [
    "from scrapy.loader.processors import Join, TakeFirst"
   ]
  },
  {
   "cell_type": "code",
   "execution_count": 16,
   "metadata": {
    "collapsed": false
   },
   "outputs": [
    {
     "name": "stdout",
     "output_type": "stream",
     "text": [
      "<class 'type'>\n",
      "<class 'scrapy.loader.processors.TakeFirst'>\n"
     ]
    }
   ],
   "source": [
    "print(type(TakeFirst))\n",
    "\n",
    "# Join is a class, TakeFirst is also a class\n",
    "# when we initialize it, we will get an object, and the object is a function\n",
    "\n",
    "tf = TakeFirst()\n",
    "print(type(tf))"
   ]
  },
  {
   "cell_type": "code",
   "execution_count": 17,
   "metadata": {
    "collapsed": false
   },
   "outputs": [
    {
     "name": "stdout",
     "output_type": "stream",
     "text": [
      "['<p class=\"TweetTextSize TweetTextSize--normal js-tweet-text tweet-text\" lang=\"en\" data-aria-label-part=\"0\"><a href=\"/hashtag/AboutLastNight?src=hash\" data-query-source=\"hashtag_click\" class=\"twitter-hashtag pretty-link js-nav\" dir=\"ltr\"><s>#</s><b>AboutLastNight</b></a>: Chase cardmembers celebrated the opening of the newly renovated <a href=\"/hashtag/ChaseLounge?src=hash\" data-query-source=\"hashtag_click\" class=\"twitter-hashtag pretty-link js-nav\" dir=\"ltr\"><s>#</s><b>ChaseLounge</b></a> in the historic <a href=\"/ChicagoTheatre\" class=\"twitter-atreply pretty-link js-nav\" dir=\"ltr\" data-mentioned-user-id=\"38218024\"><s>@</s><b>ChicagoTheatre</b></a><a href=\"https://t.co/My9TtK89t8\" class=\"twitter-timeline-link u-hidden\" data-pre-embedded=\"true\" dir=\"ltr\">pic.twitter.com/My9TtK89t8</a></p>', '<p class=\"TweetTextSize TweetTextSize--normal js-tweet-text tweet-text\" lang=\"en\" data-aria-label-part=\"0\"><a href=\"/hashtag/AboutLastNight?src=hash\" data-query-source=\"hashtag_click\" class=\"twitter-hashtag pretty-link js-nav\" dir=\"ltr\"><s>#</s><b>AboutLastNight</b></a>: Chase cardmembers celebrated the opening of the newly renovated <a href=\"/hashtag/ChaseLounge?src=hash\" data-query-source=\"hashtag_click\" class=\"twitter-hashtag pretty-link js-nav\" dir=\"ltr\"><s>#</s><b>ChaseLounge</b></a> in the historic <a href=\"/ChicagoTheatre\" class=\"twitter-atreply pretty-link js-nav\" dir=\"ltr\" data-mentioned-user-id=\"38218024\"><s>@</s><b>ChicagoTheatre</b></a><a href=\"https://t.co/My9TtK89t8\" class=\"twitter-timeline-link u-hidden\" data-pre-embedded=\"true\" dir=\"ltr\">pic.twitter.com/My9TtK89t8</a></p>']\n"
     ]
    },
    {
     "data": {
      "text/plain": [
       "'<p class=\"TweetTextSize TweetTextSize--normal js-tweet-text tweet-text\" lang=\"en\" data-aria-label-part=\"0\"><a href=\"/hashtag/AboutLastNight?src=hash\" data-query-source=\"hashtag_click\" class=\"twitter-hashtag pretty-link js-nav\" dir=\"ltr\"><s>#</s><b>AboutLastNight</b></a>: Chase cardmembers celebrated the opening of the newly renovated <a href=\"/hashtag/ChaseLounge?src=hash\" data-query-source=\"hashtag_click\" class=\"twitter-hashtag pretty-link js-nav\" dir=\"ltr\"><s>#</s><b>ChaseLounge</b></a> in the historic <a href=\"/ChicagoTheatre\" class=\"twitter-atreply pretty-link js-nav\" dir=\"ltr\" data-mentioned-user-id=\"38218024\"><s>@</s><b>ChicagoTheatre</b></a><a href=\"https://t.co/My9TtK89t8\" class=\"twitter-timeline-link u-hidden\" data-pre-embedded=\"true\" dir=\"ltr\">pic.twitter.com/My9TtK89t8</a></p>'"
      ]
     },
     "execution_count": 17,
     "metadata": {},
     "output_type": "execute_result"
    }
   ],
   "source": [
    "# let's see how tf works \n",
    "\n",
    "a = l.get_xpath(content_xpath)\n",
    "\n",
    "a.append(a[0])\n",
    "print(a)\n",
    "\n",
    "# have a look at the results, you will find the first element of the list is returned.\n",
    "tf(a)\n"
   ]
  },
  {
   "cell_type": "code",
   "execution_count": 18,
   "metadata": {
    "collapsed": false
   },
   "outputs": [
    {
     "name": "stdout",
     "output_type": "stream",
     "text": [
      "['<p class=\"TweetTextSize TweetTextSize--normal js-tweet-text tweet-text\" lang=\"en\" data-aria-label-part=\"0\"><a href=\"/hashtag/AboutLastNight?src=hash\" data-query-source=\"hashtag_click\" class=\"twitter-hashtag pretty-link js-nav\" dir=\"ltr\"><s>#</s><b>AboutLastNight</b></a>: Chase cardmembers celebrated the opening of the newly renovated <a href=\"/hashtag/ChaseLounge?src=hash\" data-query-source=\"hashtag_click\" class=\"twitter-hashtag pretty-link js-nav\" dir=\"ltr\"><s>#</s><b>ChaseLounge</b></a> in the historic <a href=\"/ChicagoTheatre\" class=\"twitter-atreply pretty-link js-nav\" dir=\"ltr\" data-mentioned-user-id=\"38218024\"><s>@</s><b>ChicagoTheatre</b></a><a href=\"https://t.co/My9TtK89t8\" class=\"twitter-timeline-link u-hidden\" data-pre-embedded=\"true\" dir=\"ltr\">pic.twitter.com/My9TtK89t8</a></p>', '<p class=\"TweetTextSize TweetTextSize--normal js-tweet-text tweet-text\" lang=\"en\" data-aria-label-part=\"0\"><a href=\"/hashtag/AboutLastNight?src=hash\" data-query-source=\"hashtag_click\" class=\"twitter-hashtag pretty-link js-nav\" dir=\"ltr\"><s>#</s><b>AboutLastNight</b></a>: Chase cardmembers celebrated the opening of the newly renovated <a href=\"/hashtag/ChaseLounge?src=hash\" data-query-source=\"hashtag_click\" class=\"twitter-hashtag pretty-link js-nav\" dir=\"ltr\"><s>#</s><b>ChaseLounge</b></a> in the historic <a href=\"/ChicagoTheatre\" class=\"twitter-atreply pretty-link js-nav\" dir=\"ltr\" data-mentioned-user-id=\"38218024\"><s>@</s><b>ChicagoTheatre</b></a><a href=\"https://t.co/My9TtK89t8\" class=\"twitter-timeline-link u-hidden\" data-pre-embedded=\"true\" dir=\"ltr\">pic.twitter.com/My9TtK89t8</a></p>']\n"
     ]
    },
    {
     "data": {
      "text/plain": [
       "'<p class=\"TweetTextSize TweetTextSize--normal js-tweet-text tweet-text\" lang=\"en\" data-aria-label-part=\"0\"><a href=\"/hashtag/AboutLastNight?src=hash\" data-query-source=\"hashtag_click\" class=\"twitter-hashtag pretty-link js-nav\" dir=\"ltr\"><s>#</s><b>AboutLastNight</b></a>: Chase cardmembers celebrated the opening of the newly renovated <a href=\"/hashtag/ChaseLounge?src=hash\" data-query-source=\"hashtag_click\" class=\"twitter-hashtag pretty-link js-nav\" dir=\"ltr\"><s>#</s><b>ChaseLounge</b></a> in the historic <a href=\"/ChicagoTheatre\" class=\"twitter-atreply pretty-link js-nav\" dir=\"ltr\" data-mentioned-user-id=\"38218024\"><s>@</s><b>ChicagoTheatre</b></a><a href=\"https://t.co/My9TtK89t8\" class=\"twitter-timeline-link u-hidden\" data-pre-embedded=\"true\" dir=\"ltr\">pic.twitter.com/My9TtK89t8</a></p> <p class=\"TweetTextSize TweetTextSize--normal js-tweet-text tweet-text\" lang=\"en\" data-aria-label-part=\"0\"><a href=\"/hashtag/AboutLastNight?src=hash\" data-query-source=\"hashtag_click\" class=\"twitter-hashtag pretty-link js-nav\" dir=\"ltr\"><s>#</s><b>AboutLastNight</b></a>: Chase cardmembers celebrated the opening of the newly renovated <a href=\"/hashtag/ChaseLounge?src=hash\" data-query-source=\"hashtag_click\" class=\"twitter-hashtag pretty-link js-nav\" dir=\"ltr\"><s>#</s><b>ChaseLounge</b></a> in the historic <a href=\"/ChicagoTheatre\" class=\"twitter-atreply pretty-link js-nav\" dir=\"ltr\" data-mentioned-user-id=\"38218024\"><s>@</s><b>ChicagoTheatre</b></a><a href=\"https://t.co/My9TtK89t8\" class=\"twitter-timeline-link u-hidden\" data-pre-embedded=\"true\" dir=\"ltr\">pic.twitter.com/My9TtK89t8</a></p>'"
      ]
     },
     "execution_count": 18,
     "metadata": {},
     "output_type": "execute_result"
    }
   ],
   "source": [
    "# let's see how Join works\n",
    "\n",
    "join = Join()\n",
    "print(a)\n",
    "\n",
    "# combine all the elements in the list as a string.\n",
    "join(a)"
   ]
  },
  {
   "cell_type": "code",
   "execution_count": 20,
   "metadata": {
    "collapsed": false
   },
   "outputs": [
    {
     "data": {
      "text/plain": [
       "'<p class=\"TweetTextSize TweetTextSize--normal js-tweet-text tweet-text\" lang=\"en\" data-aria-label-part=\"0\"><a href=\"/hashtag/AboutLastNight?src=hash\" data-query-source=\"hashtag_click\" class=\"twitter-hashtag pretty-link js-nav\" dir=\"ltr\"><s>#</s><b>AboutLastNight</b></a>: Chase cardmembers celebrated the opening of the newly renovated <a href=\"/hashtag/ChaseLounge?src=hash\" data-query-source=\"hashtag_click\" class=\"twitter-hashtag pretty-link js-nav\" dir=\"ltr\"><s>#</s><b>ChaseLounge</b></a> in the historic <a href=\"/ChicagoTheatre\" class=\"twitter-atreply pretty-link js-nav\" dir=\"ltr\" data-mentioned-user-id=\"38218024\"><s>@</s><b>ChicagoTheatre</b></a><a href=\"https://t.co/My9TtK89t8\" class=\"twitter-timeline-link u-hidden\" data-pre-embedded=\"true\" dir=\"ltr\">pic.twitter.com/My9TtK89t8</a></p>'"
      ]
     },
     "execution_count": 20,
     "metadata": {},
     "output_type": "execute_result"
    }
   ],
   "source": [
    "# actually, we can combine them\n",
    "\n",
    "# we initialize a new one\n",
    "l = ItemLoader(item = SourceItem(), response = response)\n",
    "\n",
    "# the logics is, first, get a list of value via xpath.\n",
    "# then convey the returned list to the function join()\n",
    "# return the value\n",
    "l.get_xpath(content_xpath, join)"
   ]
  },
  {
   "cell_type": "code",
   "execution_count": 21,
   "metadata": {
    "collapsed": true
   },
   "outputs": [],
   "source": [
    "# we can also define our own function\n",
    "# and apply it to the ItemLoader\n",
    "import re\n",
    "\n",
    "# this function is used to strip the html tags\n",
    "def cleanhtml(raw_html):\n",
    "    cleanr = re.compile('<.*?>')\n",
    "    cleantext = re.sub(cleanr, '', raw_html)\n",
    "    return cleantext"
   ]
  },
  {
   "cell_type": "code",
   "execution_count": 22,
   "metadata": {
    "collapsed": false
   },
   "outputs": [
    {
     "data": {
      "text/plain": [
       "'#AboutLastNight: Chase cardmembers celebrated the opening of the newly renovated #ChaseLounge in the historic @ChicagoTheatrepic.twitter.com/My9TtK89t8'"
      ]
     },
     "execution_count": 22,
     "metadata": {},
     "output_type": "execute_result"
    }
   ],
   "source": [
    "l.get_xpath(content_xpath, Join(), cleanhtml)\n"
   ]
  },
  {
   "cell_type": "code",
   "execution_count": null,
   "metadata": {
    "collapsed": true
   },
   "outputs": [],
   "source": []
  }
 ],
 "metadata": {
  "kernelspec": {
   "display_name": "Python 3",
   "language": "python",
   "name": "python3"
  },
  "language_info": {
   "codemirror_mode": {
    "name": "ipython",
    "version": 3
   },
   "file_extension": ".py",
   "mimetype": "text/x-python",
   "name": "python",
   "nbconvert_exporter": "python",
   "pygments_lexer": "ipython3",
   "version": "3.6.0"
  }
 },
 "nbformat": 4,
 "nbformat_minor": 2
}
